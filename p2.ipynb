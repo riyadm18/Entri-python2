{
 "cells": [
  {
   "cell_type": "code",
   "execution_count": 1,
   "id": "eac87e46-b5a4-489b-8223-c077916a360a",
   "metadata": {},
   "outputs": [
    {
     "name": "stdout",
     "output_type": "stream",
     "text": [
      "Original List: [35, 100, 73, 51, 68]\n"
     ]
    }
   ],
   "source": [
    "import random\n",
    "random_list = [random.randint(1, 100) for _ in range(5)]\n",
    "print(\"Original List:\", random_list)"
   ]
  },
  {
   "cell_type": "code",
   "execution_count": 2,
   "id": "ed757f41-3b8a-4e8f-8767-647aa0070f70",
   "metadata": {},
   "outputs": [
    {
     "name": "stdout",
     "output_type": "stream",
     "text": [
      "Updated List: [35, 100, 73, 51, 68, 200, 300, 400]\n"
     ]
    }
   ],
   "source": [
    "random_list.extend([200, 300, 400])\n",
    "print(\"Updated List:\", random_list)"
   ]
  },
  {
   "cell_type": "code",
   "execution_count": 3,
   "id": "0c0c183e-60d4-4d43-acd4-40689c023cca",
   "metadata": {},
   "outputs": [
    {
     "name": "stdout",
     "output_type": "stream",
     "text": [
      "List Elements:\n",
      "35\n",
      "100\n",
      "73\n",
      "51\n",
      "68\n",
      "200\n",
      "300\n",
      "400\n"
     ]
    }
   ],
   "source": [
    "print(\"List Elements:\")\n",
    "for num in random_list:\n",
    "    print(num)"
   ]
  },
  {
   "cell_type": "code",
   "execution_count": 4,
   "id": "6ba36f2e-78bf-4a57-a007-623a5618d7ba",
   "metadata": {},
   "outputs": [
    {
     "name": "stdout",
     "output_type": "stream",
     "text": [
      "Dictionary: {'name': 'John', 'age': 25, 'address': 'New York'}\n"
     ]
    }
   ],
   "source": [
    "person = {'name': 'John', 'age': 25, 'address': 'New York'}\n",
    "print(\"Dictionary:\", person)"
   ]
  },
  {
   "cell_type": "code",
   "execution_count": 6,
   "id": "beb9671e-0acd-4517-824a-64991166ddff",
   "metadata": {},
   "outputs": [
    {
     "name": "stdout",
     "output_type": "stream",
     "text": [
      "Updated Dictionary: {'name': 'John', 'age': 25, 'address': 'New York', 'phone': '1234567890'}\n"
     ]
    }
   ],
   "source": [
    "person['phone'] = '1234567890'\n",
    "print(\"Updated Dictionary:\", person)"
   ]
  },
  {
   "cell_type": "code",
   "execution_count": 7,
   "id": "4cdf86fc-87b4-45fd-8cd4-90de4f213794",
   "metadata": {},
   "outputs": [
    {
     "name": "stdout",
     "output_type": "stream",
     "text": [
      "Original Set: {1, 2, 3, 4, 5}\n"
     ]
    }
   ],
   "source": [
    "num_set = {1, 2, 3, 4, 5}\n",
    "print(\"Original Set:\", num_set)"
   ]
  },
  {
   "cell_type": "code",
   "execution_count": 8,
   "id": "b803b24a-d685-4c71-80e0-817ac77042a4",
   "metadata": {},
   "outputs": [
    {
     "name": "stdout",
     "output_type": "stream",
     "text": [
      "Updated Set: {1, 2, 3, 4, 5, 6}\n"
     ]
    }
   ],
   "source": [
    "num_set.add(6)\n",
    "print(\"Updated Set:\", num_set)"
   ]
  },
  {
   "cell_type": "code",
   "execution_count": 9,
   "id": "d9a9621a-867a-4533-a597-66a117448464",
   "metadata": {},
   "outputs": [
    {
     "name": "stdout",
     "output_type": "stream",
     "text": [
      "Set after removing 3: {1, 2, 4, 5, 6}\n"
     ]
    }
   ],
   "source": [
    "num_set.discard(3)  \n",
    "print(\"Set after removing 3:\", num_set)"
   ]
  },
  {
   "cell_type": "code",
   "execution_count": 10,
   "id": "97482f5f-9684-4802-8047-c4bd80431982",
   "metadata": {},
   "outputs": [
    {
     "name": "stdout",
     "output_type": "stream",
     "text": [
      "Tuple: (1, 2, 3, 4)\n"
     ]
    }
   ],
   "source": [
    "num_tuple = (1, 2, 3, 4)\n",
    "print(\"Tuple:\", num_tuple)"
   ]
  },
  {
   "cell_type": "code",
   "execution_count": 11,
   "id": "977e8af4-d5f4-4a5f-8705-cd1c50906b50",
   "metadata": {},
   "outputs": [
    {
     "name": "stdout",
     "output_type": "stream",
     "text": [
      "Length of Tuple: 4\n"
     ]
    }
   ],
   "source": [
    "print(\"Length of Tuple:\", len(num_tuple))"
   ]
  },
  {
   "cell_type": "code",
   "execution_count": null,
   "id": "f72d7b48-5c7d-4f8b-a766-761bbd1facf1",
   "metadata": {},
   "outputs": [],
   "source": []
  }
 ],
 "metadata": {
  "kernelspec": {
   "display_name": "Python [conda env:base] *",
   "language": "python",
   "name": "conda-base-py"
  },
  "language_info": {
   "codemirror_mode": {
    "name": "ipython",
    "version": 3
   },
   "file_extension": ".py",
   "mimetype": "text/x-python",
   "name": "python",
   "nbconvert_exporter": "python",
   "pygments_lexer": "ipython3",
   "version": "3.12.7"
  }
 },
 "nbformat": 4,
 "nbformat_minor": 5
}
